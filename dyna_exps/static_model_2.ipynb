{
 "cells": [
  {
   "cell_type": "code",
   "execution_count": 1,
   "metadata": {
    "ExecuteTime": {
     "end_time": "2020-05-24T21:25:22.873030Z",
     "start_time": "2020-05-24T21:25:22.866330Z"
    }
   },
   "outputs": [],
   "source": [
    "import csv"
   ]
  },
  {
   "cell_type": "code",
   "execution_count": 2,
   "metadata": {
    "ExecuteTime": {
     "end_time": "2020-05-24T21:25:55.459269Z",
     "start_time": "2020-05-24T21:25:23.218407Z"
    }
   },
   "outputs": [
    {
     "name": "stdout",
     "output_type": "stream",
     "text": [
      "Read interactions\n"
     ]
    }
   ],
   "source": [
    "def read_reddit():\n",
    "    interactions = []\n",
    "    with open('./data/reddit.csv') as csvfile:\n",
    "        datareader = csv.reader(csvfile)\n",
    "        for i, row in enumerate(datareader):\n",
    "            if i==0:\n",
    "                continue\n",
    "            interactions.append((row[0], row[1], float(row[2])))\n",
    "    print(\"Read interactions\")\n",
    "    return interactions\n",
    "\n",
    "def read_select(interactions, start=0, end=0.8):\n",
    "    user_to_item = {}\n",
    "    item_to_user = {}\n",
    "    for i, (user_id, item_id, tstamp) in enumerate(interactions):\n",
    "        if i < start * len(interactions) or i > end * len(interactions):\n",
    "            continue\n",
    "        if user_id not in user_to_item:\n",
    "            user_to_item[user_id] = []\n",
    "        user_to_item[user_id].append(item_id)\n",
    "\n",
    "        if item_id not in item_to_user:\n",
    "            item_to_user[item_id] = []\n",
    "        item_to_user[item_id].append(item_id)\n",
    "    print(\"Generated user_to_item lists\")\n",
    "    return user_to_item, item_to_user\n",
    "\n",
    "interactions = read_reddit()"
   ]
  },
  {
   "cell_type": "code",
   "execution_count": 3,
   "metadata": {
    "ExecuteTime": {
     "end_time": "2020-05-24T21:25:56.193589Z",
     "start_time": "2020-05-24T21:25:55.462131Z"
    }
   },
   "outputs": [
    {
     "name": "stdout",
     "output_type": "stream",
     "text": [
      "Generated user_to_item lists\n",
      "9946\n",
      "981\n"
     ]
    }
   ],
   "source": [
    "### Training time\n",
    "user_to_item, item_to_user = read_select(interactions, 0, 0.8)\n",
    "print(len(user_to_item.keys()))\n",
    "print(len(item_to_user.keys()))"
   ]
  },
  {
   "cell_type": "code",
   "execution_count": 4,
   "metadata": {
    "ExecuteTime": {
     "end_time": "2020-05-24T21:25:58.408375Z",
     "start_time": "2020-05-24T21:25:56.196250Z"
    }
   },
   "outputs": [],
   "source": [
    "import networkx as nx\n",
    "from tqdm import tqdm, trange, tqdm_notebook, tnrange"
   ]
  },
  {
   "cell_type": "code",
   "execution_count": 5,
   "metadata": {
    "ExecuteTime": {
     "end_time": "2020-05-24T21:26:00.176177Z",
     "start_time": "2020-05-24T21:25:58.410238Z"
    }
   },
   "outputs": [
    {
     "data": {
      "application/vnd.jupyter.widget-view+json": {
       "model_id": "15d80f9a036b4f429fdb39b9c8eb1e9b",
       "version_major": 2,
       "version_minor": 0
      },
      "text/plain": [
       "HBox(children=(IntProgress(value=0, max=981), HTML(value='')))"
      ]
     },
     "metadata": {},
     "output_type": "display_data"
    },
    {
     "name": "stdout",
     "output_type": "stream",
     "text": [
      "\n",
      "Constructed Item Graph\n"
     ]
    }
   ],
   "source": [
    "itemG = nx.Graph()\n",
    "with tnrange(len(item_to_user.keys())) as item_progressbar:    \n",
    "    for i, item1 in zip(item_progressbar, item_to_user.keys()):\n",
    "        item_progressbar.set_description(\"Processed {}/{} items.\".format(i, len(item_to_user.keys())))\n",
    "        itemG.add_node(item1)\n",
    "        nbrs = set()\n",
    "        for user in item_to_user[item1]:\n",
    "            nbrs.update(user_to_item[user])\n",
    "        for item2 in nbrs:\n",
    "            itemG.add_edge(item1, item2)\n",
    "            itemG.add_edge(item2, item1)\n",
    "    print(\"Constructed Item Graph\")"
   ]
  },
  {
   "cell_type": "code",
   "execution_count": 6,
   "metadata": {
    "ExecuteTime": {
     "end_time": "2020-05-24T21:29:05.744686Z",
     "start_time": "2020-05-24T21:26:00.178452Z"
    }
   },
   "outputs": [
    {
     "data": {
      "application/vnd.jupyter.widget-view+json": {
       "model_id": "d923e5ca7a8743b0bfd34095d3ccf36b",
       "version_major": 2,
       "version_minor": 0
      },
      "text/plain": [
       "HBox(children=(IntProgress(value=0, max=9946), HTML(value='')))"
      ]
     },
     "metadata": {},
     "output_type": "display_data"
    },
    {
     "name": "stdout",
     "output_type": "stream",
     "text": [
      "\n",
      "Constructed User Graph\n"
     ]
    }
   ],
   "source": [
    "userG = nx.Graph()\n",
    "with tnrange(len(user_to_item.keys())) as user_progressbar:    \n",
    "    for i, user1 in zip(user_progressbar, user_to_item.keys()):\n",
    "        user_progressbar.set_description(\"Processed {}/{} users.\".format(i, len(user_to_item.keys())))\n",
    "        userG.add_node(user1)\n",
    "        nbrs = set()\n",
    "        for item in user_to_item[user1]:\n",
    "            nbrs.update(item_to_user[item])\n",
    "        for user2 in nbrs:\n",
    "            userG.add_edge(user1, user2)\n",
    "            userG.add_edge(user2, user1)\n",
    "print(\"Constructed User Graph\")"
   ]
  },
  {
   "cell_type": "markdown",
   "metadata": {},
   "source": [
    "Jodie Original Performance\n",
    "\n",
    "*** Validation performance of epoch 9 ***  \n",
    "Mean Reciprocal Rank: 0.7058091714668168  \n",
    "Recall@10: 0.8078816268867574  \n",
    "\n",
    "\n",
    "*** Test performance of epoch 9 ***  \n",
    "Mean Reciprocal Rank: 0.7253162947486189  \n",
    "Recall@10: 0.8497434753513272  \n",
    "\n",
    "\n",
    "Node2Vec + Vector space transformation  \n",
    "*** Validation performance of epoch 10 ***  \n",
    "Mean Reciprocal Rank: 0.007162006871968379  \n",
    "Recall@10: 0.018335935757305376  \n",
    "\n",
    "\n",
    "*** Test performance of epoch 10 ***  \n",
    "Mean Reciprocal Rank: 0.00823016722486954  \n",
    "Recall@10: 0.02526581902000149  \n",
    "\n",
    "Node2Vec + Item embedding  \n",
    "*** Validation performance of epoch 10 ***  \n",
    "Mean Reciprocal Rank: 0.005439007385994447  \n",
    "Recall@10: 0.004580266190794854  \n",
    "\n",
    "\n",
    "*** Test performance of epoch 10 ***  \n",
    "Mean Reciprocal Rank: 0.005632637876430475  \n",
    "Recall@10: 0.005219718938211019  \n"
   ]
  },
  {
   "cell_type": "code",
   "execution_count": 7,
   "metadata": {
    "ExecuteTime": {
     "end_time": "2020-05-24T21:33:01.972361Z",
     "start_time": "2020-05-24T21:33:01.961766Z"
    }
   },
   "outputs": [
    {
     "data": {
      "text/plain": [
       "['0', '72', '15', '1', '503', '347', '2', '3', '432', '4']"
      ]
     },
     "execution_count": 7,
     "metadata": {},
     "output_type": "execute_result"
    }
   ],
   "source": [
    "list(userG.nodes())[:10]"
   ]
  },
  {
   "cell_type": "code",
   "execution_count": 8,
   "metadata": {
    "ExecuteTime": {
     "end_time": "2020-05-24T21:33:02.531284Z",
     "start_time": "2020-05-24T21:33:02.526144Z"
    }
   },
   "outputs": [
    {
     "data": {
      "text/plain": [
       "['0', '72', '15', '1', '503', '347', '2', '3', '432', '4']"
      ]
     },
     "execution_count": 8,
     "metadata": {},
     "output_type": "execute_result"
    }
   ],
   "source": [
    "list(itemG.nodes())[:10]"
   ]
  },
  {
   "cell_type": "markdown",
   "metadata": {},
   "source": [
    "usage: node2vec  \n",
    "   -i:Input graph path (default:'graph/karate.edgelist')  \n",
    "   -o:Output graph path (default:'emb/karate.emb')  \n",
    "   -d:Number of dimensions. Default is 128 (default:128)  \n",
    "   -l:Length of walk per source. Default is 80 (default:80)  \n",
    "   -r:Number of walks per source. Default is 10 (default:10)  \n",
    "   -k:Context size for optimization. Default is 10 (default:10)  \n",
    "   -e:Number of epochs in SGD. Default is 1 (default:1)  \n",
    "   -p:Return hyperparameter. Default is 1 (default:1)  \n",
    "   -q:Inout hyperparameter. Default is 1 (default:1)  \n",
    "   -v Verbose output.   \n",
    "   -dr Graph is directed.   \n",
    "   -w Graph is weighted.   \n",
    "   -ow Output random walks instead of embeddings.   "
   ]
  },
  {
   "cell_type": "code",
   "execution_count": 9,
   "metadata": {
    "ExecuteTime": {
     "end_time": "2020-05-24T21:33:10.977274Z",
     "start_time": "2020-05-24T21:33:04.968440Z"
    }
   },
   "outputs": [
    {
     "name": "stdout",
     "output_type": "stream",
     "text": [
      "\r\n",
      "An algorithmic framework for representational learning on graphs. [Aug 13 2019]\r\n",
      "================================================================================\r\n",
      "Input graph path (-i:)=/tmp/v2020_elist_item.edgelist\r\n",
      "Output graph path (-o:)=/home/viresh16118/repos/jodie_orig/node2vec_embedding/items_2.emb\r\n",
      "Number of dimensions. Default is 128 (-d:)=128\r\n",
      "Length of walk per source. Default is 80 (-l:)=80\r\n",
      "Number of walks per source. Default is 10 (-r:)=10\r\n",
      "Context size for optimization. Default is 10 (-k:)=10\r\n",
      "Number of epochs in SGD. Default is 1 (-e:)=1\r\n",
      "Return hyperparameter. Default is 1 (-p:)=1\r\n",
      "Inout hyperparameter. Default is 1 (-q:)=1\r\n",
      "Verbose output. (-v)=NO\r\n",
      "Graph is directed. (-dr)=NO\r\n",
      "Graph is weighted. (-w)=NO\r\n",
      "Output random walks instead of embeddings. (-ow)=NO\r\n"
     ]
    }
   ],
   "source": [
    "### Use node2vec on item graph\n",
    "nx.write_edgelist(itemG, '/tmp/v2020_elist_item.edgelist')\n",
    "!/home/viresh16118/bin/node2vec -i:'/tmp/v2020_elist_item.edgelist' -o:'/home/viresh16118/repos/jodie_orig/node2vec_embedding/items_2.emb'"
   ]
  },
  {
   "cell_type": "code",
   "execution_count": 10,
   "metadata": {
    "ExecuteTime": {
     "end_time": "2020-05-24T21:34:03.453593Z",
     "start_time": "2020-05-24T21:33:10.980673Z"
    }
   },
   "outputs": [
    {
     "name": "stdout",
     "output_type": "stream",
     "text": [
      "\r\n",
      "An algorithmic framework for representational learning on graphs. [Aug 13 2019]\r\n",
      "================================================================================\r\n",
      "Input graph path (-i:)=/tmp/v2020_elist_user.edgelist\r\n",
      "Output graph path (-o:)=/home/viresh16118/repos/jodie_orig/node2vec_embedding/users_2.emb\r\n",
      "Number of dimensions. Default is 128 (-d:)=128\r\n",
      "Length of walk per source. Default is 80 (-l:)=80\r\n",
      "Number of walks per source. Default is 10 (-r:)=10\r\n",
      "Context size for optimization. Default is 10 (-k:)=10\r\n",
      "Number of epochs in SGD. Default is 1 (-e:)=1\r\n",
      "Return hyperparameter. Default is 1 (-p:)=1\r\n",
      "Inout hyperparameter. Default is 1 (-q:)=1\r\n",
      "Verbose output. (-v)=NO\r\n",
      "Graph is directed. (-dr)=NO\r\n",
      "Graph is weighted. (-w)=NO\r\n",
      "Output random walks instead of embeddings. (-ow)=NO\r\n"
     ]
    }
   ],
   "source": [
    "### Use node2vec on user graph\n",
    "nx.write_edgelist(userG, '/tmp/v2020_elist_user.edgelist')\n",
    "!/home/viresh16118/bin/node2vec -i:'/tmp/v2020_elist_user.edgelist' -o:'/home/viresh16118/repos/jodie_orig/node2vec_embedding/users_2.emb'"
   ]
  },
  {
   "cell_type": "code",
   "execution_count": 11,
   "metadata": {
    "ExecuteTime": {
     "end_time": "2020-05-24T21:34:06.290602Z",
     "start_time": "2020-05-24T21:34:03.455722Z"
    }
   },
   "outputs": [
    {
     "name": "stdout",
     "output_type": "stream",
     "text": [
      "9946 981 128\n"
     ]
    }
   ],
   "source": [
    "### load embeddings\n",
    "from gensim.models import KeyedVectors\n",
    "user_embeddings = KeyedVectors.load_word2vec_format(\"./node2vec_embedding/users_2.emb\", binary=False)\n",
    "item_embeddings = KeyedVectors.load_word2vec_format(\"./node2vec_embedding/items_2.emb\", binary=False)\n",
    "print(len(user_embeddings.vocab), len(item_embeddings.vocab), len(user_embeddings['0']))"
   ]
  },
  {
   "cell_type": "code",
   "execution_count": 12,
   "metadata": {
    "ExecuteTime": {
     "end_time": "2020-05-24T21:34:18.208106Z",
     "start_time": "2020-05-24T21:34:17.350877Z"
    }
   },
   "outputs": [
    {
     "name": "stdout",
     "output_type": "stream",
     "text": [
      "Constructed network\n"
     ]
    }
   ],
   "source": [
    "import torch\n",
    "import torch.nn as nn\n",
    "import torch.nn.functional as F\n",
    "import numpy as np\n",
    "\n",
    "class Net(nn.Module):\n",
    "    def __init__(self, esz, tsz, isz):\n",
    "        super(Net, self).__init__()\n",
    "        self.fc1 = nn.Linear(esz + tsz + esz, 50)\n",
    "        self.fc2 = nn.Linear(50, isz)\n",
    "\n",
    "    def forward(self, x, t, iminus):\n",
    "        x = F.relu(self.fc1(torch.cat([x, t, iminus], dim=1)))\n",
    "        x = self.fc2(x)\n",
    "        return x\n",
    "\n",
    "user_embsize = 128\n",
    "item_embsize = 128\n",
    "t_size = 1\n",
    "net = Net(user_embsize, t_size, item_embsize)\n",
    "print(\"Constructed network\")"
   ]
  },
  {
   "cell_type": "code",
   "execution_count": 102,
   "metadata": {
    "ExecuteTime": {
     "end_time": "2020-05-24T15:09:30.923936Z",
     "start_time": "2020-05-24T15:09:30.918238Z"
    }
   },
   "outputs": [
    {
     "data": {
      "text/plain": [
       "torch.Size([1, 128])"
      ]
     },
     "execution_count": 102,
     "metadata": {},
     "output_type": "execute_result"
    }
   ],
   "source": [
    "urnd = torch.rand(128)\n",
    "t = torch.rand(1)\n",
    "irnd = torch.rand(128)\n",
    "urnd.unsqueeze(0).size()\n",
    "# net(urnd, t).size()"
   ]
  },
  {
   "cell_type": "code",
   "execution_count": 14,
   "metadata": {
    "ExecuteTime": {
     "end_time": "2020-05-24T23:37:29.625936Z",
     "start_time": "2020-05-24T21:41:55.116999Z"
    },
    "scrolled": true
   },
   "outputs": [
    {
     "data": {
      "application/vnd.jupyter.widget-view+json": {
       "model_id": "d3fd1ea9053841d5b87b793c0359232a",
       "version_major": 2,
       "version_minor": 0
      },
      "text/plain": [
       "HBox(children=(IntProgress(value=0, max=10), HTML(value='')))"
      ]
     },
     "metadata": {},
     "output_type": "display_data"
    },
    {
     "data": {
      "application/vnd.jupyter.widget-view+json": {
       "model_id": "5b28fbf84f8e4aaba10478c5af680de3",
       "version_major": 2,
       "version_minor": 0
      },
      "text/plain": [
       "HBox(children=(IntProgress(value=0, max=3362), HTML(value='')))"
      ]
     },
     "metadata": {},
     "output_type": "display_data"
    },
    {
     "name": "stdout",
     "output_type": "stream",
     "text": [
      "Average batch loss: 10294.443377721102\n"
     ]
    },
    {
     "data": {
      "application/vnd.jupyter.widget-view+json": {
       "model_id": "8f507cf6f1bd4255961a47d1d18b9071",
       "version_major": 2,
       "version_minor": 0
      },
      "text/plain": [
       "HBox(children=(IntProgress(value=0, max=3362), HTML(value='')))"
      ]
     },
     "metadata": {},
     "output_type": "display_data"
    },
    {
     "name": "stdout",
     "output_type": "stream",
     "text": [
      "Average batch loss: 45.643398868449324\n"
     ]
    },
    {
     "data": {
      "application/vnd.jupyter.widget-view+json": {
       "model_id": "60148feb1b5b4ea395745281cb6c7fe3",
       "version_major": 2,
       "version_minor": 0
      },
      "text/plain": [
       "HBox(children=(IntProgress(value=0, max=3362), HTML(value='')))"
      ]
     },
     "metadata": {},
     "output_type": "display_data"
    },
    {
     "name": "stdout",
     "output_type": "stream",
     "text": [
      "Average batch loss: 44.853548440332894\n"
     ]
    },
    {
     "data": {
      "application/vnd.jupyter.widget-view+json": {
       "model_id": "795c1c27fd9b4ab2ae57adb67134d0a2",
       "version_major": 2,
       "version_minor": 0
      },
      "text/plain": [
       "HBox(children=(IntProgress(value=0, max=3362), HTML(value='')))"
      ]
     },
     "metadata": {},
     "output_type": "display_data"
    },
    {
     "name": "stdout",
     "output_type": "stream",
     "text": [
      "Average batch loss: 44.44859980847469\n"
     ]
    },
    {
     "data": {
      "application/vnd.jupyter.widget-view+json": {
       "model_id": "4b8404d1710641998cf2b189ed425eb4",
       "version_major": 2,
       "version_minor": 0
      },
      "text/plain": [
       "HBox(children=(IntProgress(value=0, max=3362), HTML(value='')))"
      ]
     },
     "metadata": {},
     "output_type": "display_data"
    },
    {
     "name": "stdout",
     "output_type": "stream",
     "text": [
      "Average batch loss: 45.11477737910807\n"
     ]
    },
    {
     "data": {
      "application/vnd.jupyter.widget-view+json": {
       "model_id": "bfafca3b979a43c0a3f71f681d2f3916",
       "version_major": 2,
       "version_minor": 0
      },
      "text/plain": [
       "HBox(children=(IntProgress(value=0, max=3362), HTML(value='')))"
      ]
     },
     "metadata": {},
     "output_type": "display_data"
    },
    {
     "name": "stdout",
     "output_type": "stream",
     "text": [
      "Average batch loss: 45.64386489955609\n"
     ]
    },
    {
     "data": {
      "application/vnd.jupyter.widget-view+json": {
       "model_id": "ebeb65a8714e4a2e8da19e53d94f1b5c",
       "version_major": 2,
       "version_minor": 0
      },
      "text/plain": [
       "HBox(children=(IntProgress(value=0, max=3362), HTML(value='')))"
      ]
     },
     "metadata": {},
     "output_type": "display_data"
    },
    {
     "name": "stdout",
     "output_type": "stream",
     "text": [
      "Average batch loss: 44.490684999985504\n"
     ]
    },
    {
     "data": {
      "application/vnd.jupyter.widget-view+json": {
       "model_id": "1f47ff2be1e844bdaa717fd63a5324f7",
       "version_major": 2,
       "version_minor": 0
      },
      "text/plain": [
       "HBox(children=(IntProgress(value=0, max=3362), HTML(value='')))"
      ]
     },
     "metadata": {},
     "output_type": "display_data"
    },
    {
     "name": "stdout",
     "output_type": "stream",
     "text": [
      "Average batch loss: 44.24392561029856\n"
     ]
    },
    {
     "data": {
      "application/vnd.jupyter.widget-view+json": {
       "model_id": "e0231cabf1b44aa0b702e3391ec25a73",
       "version_major": 2,
       "version_minor": 0
      },
      "text/plain": [
       "HBox(children=(IntProgress(value=0, max=3362), HTML(value='')))"
      ]
     },
     "metadata": {},
     "output_type": "display_data"
    },
    {
     "name": "stdout",
     "output_type": "stream",
     "text": [
      "Average batch loss: 43.75824873707294\n"
     ]
    },
    {
     "data": {
      "application/vnd.jupyter.widget-view+json": {
       "model_id": "964e3d05089f4cdcb5e6e9221ab71fba",
       "version_major": 2,
       "version_minor": 0
      },
      "text/plain": [
       "HBox(children=(IntProgress(value=0, max=3362), HTML(value='')))"
      ]
     },
     "metadata": {},
     "output_type": "display_data"
    },
    {
     "name": "stdout",
     "output_type": "stream",
     "text": [
      "Average batch loss: 45.932748507797626\n",
      "\n"
     ]
    }
   ],
   "source": [
    "learning_rate = 1e-4\n",
    "train_idx = int(0.8 * len(interactions))\n",
    "batch_size = 200\n",
    "epochs = 10\n",
    "\n",
    "loss_fn = torch.nn.MSELoss()\n",
    "optimizer = torch.optim.Adam(net.parameters(), lr=learning_rate)\n",
    "\n",
    "running_losses = []\n",
    "last_interacted_with = {}\n",
    "\n",
    "with tnrange(epochs) as pbar1:\n",
    "    for epch in range(epochs):\n",
    "        pbar1.set_description(\"Epoch {}/{}\".format(epch, epochs))\n",
    "\n",
    "        running_loss = 0\n",
    "        batches = np.array_split(interactions, len(interactions)/batch_size)\n",
    "        with tnrange(len(batches)) as pbar2:\n",
    "            for i, batch in enumerate(batches):\n",
    "                pbar2.set_description(\"Batch {}/{}\".format(i, len(batches)))\n",
    "                # extract from batches\n",
    "                try:\n",
    "                    users = torch.Tensor(user_embeddings[batch[:, 0]])\n",
    "                except:\n",
    "                    users = torch.Tensor([user_embeddings[k] if k in user_to_item.keys() else np.zeros(128) for k in batch[:,0]])\n",
    "                \n",
    "                last_items = [last_interacted_with.get(k, str(len(item_to_user)-1)) for k in batch[:, 0]]\n",
    "                last_items = torch.Tensor([item_embeddings[k] if k in item_to_user.keys() else np.zeros(128) for k in last_items])\n",
    "                \n",
    "                try:\n",
    "                    items = torch.Tensor(item_embeddings[batch[:, 1]])\n",
    "                except:\n",
    "                    items = torch.Tensor([item_embeddings[k] if k in item_to_user.keys() else np.zeros(128) for k in batch[:,0]])\n",
    "                times = torch.Tensor(batch[:, 2].astype(np.float)).unsqueeze(1)\n",
    "                \n",
    "                for u, i in zip(batch[:, 0], batch[:, 1]):\n",
    "                    last_interacted_with[u] = i\n",
    "\n",
    "                pred = net(users, times, last_items)\n",
    "\n",
    "                optimizer.zero_grad()\n",
    "                loss = loss_fn(pred, items)\n",
    "                loss.backward()\n",
    "                optimizer.step()\n",
    "\n",
    "                running_loss += loss.item()\n",
    "            print(\"Average batch loss: {}\".format(running_loss / (len(interactions)/ batch_size)))\n",
    "            running_losses.append(running_loss)"
   ]
  },
  {
   "cell_type": "markdown",
   "metadata": {},
   "source": [
    "Compute validation and testing mrr and recall@10"
   ]
  },
  {
   "cell_type": "code",
   "execution_count": 18,
   "metadata": {
    "ExecuteTime": {
     "end_time": "2020-05-25T05:49:10.000892Z",
     "start_time": "2020-05-25T03:56:27.970295Z"
    }
   },
   "outputs": [
    {
     "data": {
      "application/vnd.jupyter.widget-view+json": {
       "model_id": "c2fe94ecca384c60b6e5df1516ea4a62",
       "version_major": 2,
       "version_minor": 0
      },
      "text/plain": [
       "HBox(children=(IntProgress(value=0, max=134490), HTML(value='')))"
      ]
     },
     "metadata": {},
     "output_type": "display_data"
    },
    {
     "name": "stdout",
     "output_type": "stream",
     "text": [
      "\n"
     ]
    }
   ],
   "source": [
    "test_idx = 0.9 * len(interactions)\n",
    "validation_ranks = []\n",
    "test_ranks = []\n",
    "last_interacted_with = {}\n",
    "with tnrange(len(interactions[train_idx:])) as pbar3:\n",
    "    for i, (user_id, item_id, timestamp) in enumerate(interactions[train_idx:]):\n",
    "        pbar3.set_description(\"Interaction {}/{}\".format(i, len(interactions) - train_idx))\n",
    "        # extract from batches\n",
    "        usere = torch.Tensor(user_embeddings[user_id] if user_id in user_to_item.keys() else np.zeros(128)).unsqueeze(0)\n",
    "        iteme = torch.Tensor(item_embeddings[item_id] if item_id in item_to_user.keys() else np.zeros(128)).unsqueeze(0)\n",
    "        times = torch.Tensor([timestamp]).unsqueeze(0)\n",
    "        lastid = last_interacted_with.get(user_id, str(len(item_to_user)-1))\n",
    "        laste = torch.Tensor(item_embeddings[lastid] if lastid in item_to_user.keys() else np.zeros(128)).unsqueeze(0)\n",
    "        \n",
    "        with torch.no_grad():\n",
    "            pred = net(usere, times, laste)\n",
    "        \n",
    "        last_interacted_with[user_id] = item_id\n",
    "        \n",
    "        euclidean_dists = nn.PairwiseDistance()(pred.repeat(len(item_to_user.keys()), 1), torch.Tensor(item_embeddings[sorted(item_to_user.keys())]))\n",
    "        \n",
    "        try:\n",
    "            iindex = sorted(item_to_user.keys()).index(item_id)\n",
    "        except:\n",
    "            iindex = None\n",
    "            \n",
    "        if iindex is None:\n",
    "            true_item_dist = np.inf\n",
    "        else:\n",
    "            true_item_dist = euclidean_dists[iindex]\n",
    "\n",
    "            \n",
    "        eucl_smaller = (euclidean_dists < true_item_dist).numpy()\n",
    "        item_rank = np.sum(eucl_smaller) + 1\n",
    "        \n",
    "        if i < test_idx:\n",
    "            validation_ranks.append(item_rank)\n",
    "        else:\n",
    "            test_ranks.append(item_rank)"
   ]
  },
  {
   "cell_type": "code",
   "execution_count": 196,
   "metadata": {
    "ExecuteTime": {
     "end_time": "2020-05-24T18:20:35.483559Z",
     "start_time": "2020-05-24T18:20:35.478323Z"
    }
   },
   "outputs": [
    {
     "data": {
      "text/plain": [
       "672447"
      ]
     },
     "execution_count": 196,
     "metadata": {},
     "output_type": "execute_result"
    }
   ],
   "source": [
    "len(interactions)"
   ]
  },
  {
   "cell_type": "code",
   "execution_count": 186,
   "metadata": {
    "ExecuteTime": {
     "end_time": "2020-05-24T18:08:16.795663Z",
     "start_time": "2020-05-24T18:08:16.790448Z"
    }
   },
   "outputs": [
    {
     "data": {
      "text/plain": [
       "112"
      ]
     },
     "execution_count": 186,
     "metadata": {},
     "output_type": "execute_result"
    }
   ],
   "source": [
    "sorted(item_to_user.keys()).index('2')"
   ]
  },
  {
   "cell_type": "code",
   "execution_count": 19,
   "metadata": {
    "ExecuteTime": {
     "end_time": "2020-05-25T05:53:56.343023Z",
     "start_time": "2020-05-25T05:53:56.320744Z"
    }
   },
   "outputs": [
    {
     "name": "stdout",
     "output_type": "stream",
     "text": [
      "67245 67245\n"
     ]
    }
   ],
   "source": [
    "raw_ranks = validation_ranks.copy()\n",
    "vnum = int(0.9*len(interactions) - train_idx)\n",
    "tnum = len(raw_ranks) - vnum\n",
    "\n",
    "vranks = raw_ranks[:vnum]\n",
    "tranks = raw_ranks[vnum:]\n",
    "print(len(vranks), len(tranks))"
   ]
  },
  {
   "cell_type": "code",
   "execution_count": 20,
   "metadata": {
    "ExecuteTime": {
     "end_time": "2020-05-25T05:54:01.138925Z",
     "start_time": "2020-05-25T05:54:00.476292Z"
    },
    "scrolled": true
   },
   "outputs": [
    {
     "name": "stdout",
     "output_type": "stream",
     "text": [
      "\n",
      "\n",
      "*** Validation performance of epoch 10 ***\n",
      "Mean Reciprocal Rank: 0.005439007385994447\n",
      "Recall@10: 0.004580266190794854\n",
      "\n",
      "\n",
      "*** Test performance of epoch 10 ***\n",
      "Mean Reciprocal Rank: 0.005632637876430475\n",
      "Recall@10: 0.005219718938211019\n"
     ]
    }
   ],
   "source": [
    "performance_dict = dict()\n",
    "ranks = vranks\n",
    "mrr = np.mean([1.0 / r for r in ranks])\n",
    "rec10 = sum(np.array(ranks) <= 10)*1.0 / len(ranks)\n",
    "performance_dict['validation'] = [mrr, rec10]\n",
    "\n",
    "ranks = tranks\n",
    "mrr = np.mean([1.0 / r for r in ranks])\n",
    "rec10 = sum(np.array(ranks) <= 10)*1.0 / len(ranks)\n",
    "performance_dict['test'] = [mrr, rec10]\n",
    "\n",
    "metrics = ['Mean Reciprocal Rank', 'Recall@10']\n",
    "print('\\n\\n*** Validation performance of epoch {} ***'.format(epochs))\n",
    "for i in range(len(metrics)):\n",
    "    print((metrics[i] + ': ' + str(performance_dict['validation'][i])))\n",
    "\n",
    "\n",
    "print('\\n\\n*** Test performance of epoch {} ***'.format(epochs))\n",
    "for i in range(len(metrics)):\n",
    "    print((metrics[i] + ': ' + str(performance_dict['test'][i])))\n"
   ]
  },
  {
   "cell_type": "code",
   "execution_count": 200,
   "metadata": {
    "ExecuteTime": {
     "end_time": "2020-05-24T19:50:51.985015Z",
     "start_time": "2020-05-24T19:50:51.980837Z"
    }
   },
   "outputs": [
    {
     "data": {
      "text/plain": [
       "0"
      ]
     },
     "execution_count": 200,
     "metadata": {},
     "output_type": "execute_result"
    }
   ],
   "source": [
    "len(test_ranks)"
   ]
  },
  {
   "cell_type": "code",
   "execution_count": 201,
   "metadata": {
    "ExecuteTime": {
     "end_time": "2020-05-24T19:50:58.049413Z",
     "start_time": "2020-05-24T19:50:58.044729Z"
    }
   },
   "outputs": [
    {
     "data": {
      "text/plain": [
       "134490"
      ]
     },
     "execution_count": 201,
     "metadata": {},
     "output_type": "execute_result"
    }
   ],
   "source": [
    "len(validation_ranks)"
   ]
  },
  {
   "cell_type": "code",
   "execution_count": 202,
   "metadata": {
    "ExecuteTime": {
     "end_time": "2020-05-24T19:51:01.016220Z",
     "start_time": "2020-05-24T19:51:01.010918Z"
    }
   },
   "outputs": [
    {
     "data": {
      "text/plain": [
       "605202.3"
      ]
     },
     "execution_count": 202,
     "metadata": {},
     "output_type": "execute_result"
    }
   ],
   "source": [
    "test_idx"
   ]
  },
  {
   "cell_type": "code",
   "execution_count": null,
   "metadata": {},
   "outputs": [],
   "source": []
  }
 ],
 "metadata": {
  "kernelspec": {
   "display_name": "py3_env",
   "language": "python",
   "name": "py3_env"
  },
  "language_info": {
   "codemirror_mode": {
    "name": "ipython",
    "version": 3
   },
   "file_extension": ".py",
   "mimetype": "text/x-python",
   "name": "python",
   "nbconvert_exporter": "python",
   "pygments_lexer": "ipython3",
   "version": "3.6.5"
  }
 },
 "nbformat": 4,
 "nbformat_minor": 2
}
